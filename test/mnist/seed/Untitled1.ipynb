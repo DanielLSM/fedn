{
 "cells": [
  {
   "cell_type": "code",
   "execution_count": null,
   "metadata": {},
   "outputs": [],
   "source": [
    "def get_tmp_path():\n",
    "    _ , path = tempfile.mkstemp(suffix='.h5')\n",
    "    return path\n",
    "\n",
    "def save_model(self, outer_model, path=None):\n",
    "    import tarfile\n",
    "    model = outer_model['model']\n",
    "    model_bytesio = outer_model['model_bytesio']\n",
    "    inner_path = outer_model['path']\n",
    "\n",
    "    tempf = tempfile.TemporaryDirectory()\n",
    "    tar = tarfile.open(inner_path, \"r:gz\")\n",
    "    for tarinfo in tar:\n",
    "        print(\"tarinfo: \", tarinfo)\n",
    "        if tarinfo.name == 'kerasmodel.py':\n",
    "            temp_path = os.path.join(tempf.name, tarinfo.name)\n",
    "            tar.extract(tarinfo, tempf.name)\n",
    "    tar.close()\n",
    "\n",
    "\n",
    "    #if not path:\n",
    "    _ , tar_path = tempfile.mkstemp(suffix='.tar.gz')\n",
    "\n",
    "    _, weights_path = tempfile.mkstemp(suffix='.h5')\n",
    "    # saving model weights\n",
    "    model.save_weights(weights_path)\n",
    "\n",
    "    tar = tarfile.open(tar_path, \"w:gz\")\n",
    "    tar.add(weights_path,'weights.h5')\n",
    "    tar.add(temp_path,'kerasmodel.py')\n",
    "    tar.close()\n",
    "    return tar_path\n",
    "\n",
    "def save_model_edit(self, model, old_path, new_path):\n",
    "    import tarfile\n",
    "    print(\"save model edit starts\")\n",
    "\n",
    "    tempf = tempfile.TemporaryDirectory()\n",
    "    tar = tarfile.open(old_path, \"r:gz\")\n",
    "    for tarinfo in tar:\n",
    "        print(\"tarinfo: \", tarinfo)\n",
    "        if tarinfo.name == 'kerasmodel.py':\n",
    "            temp_path = os.path.join(tempf.name, tarinfo.name)\n",
    "            tar.extract(tarinfo, tempf.name)\n",
    "    tar.close()\n",
    "\n",
    "    _, weights_path = tempfile.mkstemp(suffix='.h5')\n",
    "    model.save_weights(weights_path)\n",
    "\n",
    "    tar = tarfile.open(new_path, \"w:gz\")\n",
    "    tar.add(weights_path, 'weights.h5')\n",
    "    tar.add(temp_path,'kerasmodel.py')\n",
    "    tar.close()\n",
    "    print(\"save model edit done\")\n",
    "    return new_path\n",
    "\n",
    "def load_model(path=\"model\"):\n",
    "    import importlib.util\n",
    "    import tarfile\n",
    "    tempf = tempfile.TemporaryDirectory()\n",
    "    tar = tarfile.open(path, \"r:gz\")\n",
    "    print(\"inside load model\")\n",
    "    for tarinfo in tar:\n",
    "        print(\"tarinfo: \", tarinfo)\n",
    "        tar.extract(tarinfo, tempf.name)\n",
    "    tar.close()\n",
    "    \n",
    "    print(\"folder: \", tempf.name)\n",
    "    for filename in os.listdir(tempf.name):\n",
    "        print(\"   filename: \", filename)\n",
    "        if os.path.isdir(os.path.join(tempf.name,filename)):\n",
    "            for filename_inner in os.listdir(os.path.join(tempf.name,filename)):\n",
    "                print(\"      : \", filename_inner)\n",
    "    \n",
    "    # m1 = importlib.import_module(os.path.join(tempf.name,'kerasmodel'))\n",
    "    spec = importlib.util.spec_from_file_location(\"create_seed_model\", \n",
    "                                                  os.path.join(tempf.name,'model_scripts', \"kerasmodel.py\"))\n",
    "    foo = importlib.util.module_from_spec(spec)\n",
    "    spec.loader.exec_module(foo)\n",
    "    # foo.MyClass()\n",
    "    model = foo.create_seed_model(tempf.name)\n",
    "    model.load_weights(os.path.join(tempf.name, 'weights.h5'))\n",
    "    outer_model = {}\n",
    "    outer_model['model'] = model\n",
    "\n",
    "    return outer_model\n",
    "\n",
    "def load_model_from_BytesIO(model_bytesio):\n",
    "    \"\"\" Load a model from a BytesIO object. \"\"\"\n",
    "    path = get_tmp_path()\n",
    "    with open(path, 'wb') as fh:\n",
    "        fh.write(model_bytesio)\n",
    "        fh.flush()\n",
    "    \n",
    "    return load_model(path)\n",
    "\n",
    "def serialize_model_to_BytesIO(outer_model):\n",
    "    \n",
    "    outfile_name = save_model(outer_model)\n",
    "\n",
    "    from io import BytesIO\n",
    "    a = BytesIO()\n",
    "    a.seek(0, 0)\n",
    "    with open(outfile_name, 'rb') as f:\n",
    "        a.write(f.read())\n",
    "    os.unlink(outfile_name)\n",
    "    return a\n",
    "\n"
   ]
  },
  {
   "cell_type": "code",
   "execution_count": null,
   "metadata": {},
   "outputs": [],
   "source": [
    "os.path.join('g','h','g')"
   ]
  },
  {
   "cell_type": "code",
   "execution_count": null,
   "metadata": {},
   "outputs": [],
   "source": [
    "import importlib.util\n",
    "\n",
    "def load_module(tar_ball,script_name,module_name):\n",
    "    \n",
    "    #tempf = tempfile.TemporaryDirectory()\n",
    "    _, tempf = tempfile.mkstemp()\n",
    "    #tar = tarfile.open(path, \"r:gz\")\n",
    "    print(\"tempf: \", tempf)\n",
    "    for tarinfo in tar_ball:\n",
    "        print(\"tarinfo: \", tarinfo)\n",
    "        if tarinfo.name == script_name:\n",
    "            tar.extract(tarinfo, tempf.name)\n",
    "    tar.close()\n",
    "    # m1 = importlib.import_module(os.path.join(tempf.name,'kerasmodel'))\n",
    "    spec = importlib.util.spec_from_file_location(module_name, os.path.join(tempf.name, \"kerasmodel.py\"))\n",
    "    foo = importlib.util.module_from_spec(spec)\n",
    "    spec.loader.exec_module(foo)\n",
    "    "
   ]
  },
  {
   "cell_type": "code",
   "execution_count": null,
   "metadata": {},
   "outputs": [],
   "source": [
    "import tempfile\n",
    "import tarfile\n",
    "model_folder = 'model_scripts'\n",
    "\n",
    "#import model:shell\n",
    "#spec = importlib.util.spec_from_file_location(\"create_seed_model\", os.path.join(tempf.name, \"kerasmodel.py\"))\n",
    "#foo = importlib.util.module_from_spec(spec)\n",
    "#spec.loader.exec_module(foo)\n",
    "\n",
    "\n",
    "outer_model = {}\n",
    "outer_model['model'] = None# kerasmodel()\n",
    "from io import BytesIO\n",
    "#outfile_name = tempfile.TemporaryDirectory()\n",
    "_, outfile_name = tempfile.mkstemp() \n",
    "\n",
    "# transform model_folder to a tar.gz\n",
    "tar = tarfile.open(outfile_name, \"w:gz\")\n",
    "for filename in os.listdir(model_folder):\n",
    "    print(\"adding: \", filename)\n",
    "    tar.add(os.path.join(model_folder,filename))\n",
    "tar.close()\n",
    "\n",
    "# tar to bytesio\n",
    "a = BytesIO()\n",
    "a.seek(0, 0)\n",
    "with open(outfile_name, 'rb') as f:\n",
    "    a.write(f.read())\n",
    "outer_model['model_bytesio'] = load_model_from_BytesIO(a.getbuffer())"
   ]
  },
  {
   "cell_type": "code",
   "execution_count": null,
   "metadata": {},
   "outputs": [],
   "source": [
    "def save_model(self, outer_model, path=None):\n",
    "    import tarfile\n",
    "    model = outer_model['model']\n",
    "    model_bytesio = outer_model['model_bytesio']\n",
    "    inner_path = outer_model['path']\n",
    "\n",
    "    tempf = tempfile.TemporaryDirectory()\n",
    "    tar = tarfile.open(inner_path, \"r:gz\")\n",
    "    for tarinfo in tar:\n",
    "        print(\"tarinfo: \", tarinfo)\n",
    "        if tarinfo.name == 'kerasmodel.py':\n",
    "            temp_path = os.path.join(tempf.name, tarinfo.name)\n",
    "            tar.extract(tarinfo, tempf.name)\n",
    "    tar.close()"
   ]
  },
  {
   "cell_type": "code",
   "execution_count": null,
   "metadata": {},
   "outputs": [],
   "source": [
    "import crazy_test\n",
    "import wonderkid\n",
    "crazy_test.jumpboy(wonderkid)"
   ]
  },
  {
   "cell_type": "code",
   "execution_count": 2,
   "metadata": {},
   "outputs": [
    {
     "name": "stdout",
     "output_type": "stream",
     "text": [
      "tarinfo:  <TarInfo 'weights.h5' at 0x10c5ae7a0>\n",
      "tarinfo:  <TarInfo 'kerasmodel.py' at 0x10c5aebb0>\n",
      "tarinfo:  <TarInfo 'client1_new.py' at 0x10c5aec80>\n",
      "tarinfo:  <TarInfo 'yolo3' at 0x10c5aeae0>\n",
      "tarinfo:  <TarInfo 'yolo3/__init__.py' at 0x10c5aee20>\n",
      "tarinfo:  <TarInfo 'yolo3/__pycache__' at 0x10c5aed50>\n",
      "tarinfo:  <TarInfo 'yolo3/__pycache__/__init__.cpython-37.pyc' at 0x10d687050>\n",
      "tarinfo:  <TarInfo 'yolo3/__pycache__/model.cpython-37.pyc' at 0x10d687120>\n",
      "tarinfo:  <TarInfo 'yolo3/__pycache__/utils.cpython-37.pyc' at 0x10c5aeef0>\n",
      "tarinfo:  <TarInfo 'yolo3/model.py' at 0x10d6871f0>\n",
      "tarinfo:  <TarInfo 'yolo3/utils.py' at 0x10d687390>\n"
     ]
    },
    {
     "ename": "SyntaxError",
     "evalue": "unexpected EOF while parsing (kerasmodel.py, line 3)",
     "output_type": "error",
     "traceback": [
      "Traceback \u001b[0;36m(most recent call last)\u001b[0m:\n",
      "  File \u001b[1;32m\"/Users/mattiasakesson/Documents/projects/scaleoutsystems/env/lib/python3.7/site-packages/IPython/core/interactiveshell.py\"\u001b[0m, line \u001b[1;32m3331\u001b[0m, in \u001b[1;35mrun_code\u001b[0m\n    exec(code_obj, self.user_global_ns, self.user_ns)\n",
      "\u001b[0;36m  File \u001b[0;32m\"<ipython-input-2-f13f551517aa>\"\u001b[0;36m, line \u001b[0;32m12\u001b[0;36m, in \u001b[0;35m<module>\u001b[0;36m\u001b[0m\n\u001b[0;31m    from kerasmodel import create_seed_model\u001b[0m\n",
      "\u001b[0;36m  File \u001b[0;32m\"/var/folders/2r/syzzntgn7hj2cscbl18mqxf80000gn/T/tmpk0cf5rcq/kerasmodel.py\"\u001b[0;36m, line \u001b[0;32m3\u001b[0m\n\u001b[0;31m    \u001b[0m\n\u001b[0m    ^\u001b[0m\n\u001b[0;31mSyntaxError\u001b[0m\u001b[0;31m:\u001b[0m unexpected EOF while parsing\n"
     ]
    }
   ],
   "source": [
    "import tarfile\n",
    "import sys\n",
    "import tempfile\n",
    "path = '/Users/mattiasakesson/Documents/projects/fedn/test/fedbird/seed/birdcage'\n",
    "tempf = tempfile.TemporaryDirectory()\n",
    "tar = tarfile.open(path, \"r:gz\")\n",
    "for tarinfo in tar:\n",
    "    print(\"tarinfo: \", tarinfo)\n",
    "    tar.extract(tarinfo, tempf.name)\n",
    "tar.close()\n",
    "sys.path.append(tempf.name)\n",
    "from kerasmodel import create_seed_model"
   ]
  },
  {
   "cell_type": "code",
   "execution_count": null,
   "metadata": {},
   "outputs": [],
   "source": [
    "model = create_seed_model()"
   ]
  },
  {
   "cell_type": "code",
   "execution_count": null,
   "metadata": {},
   "outputs": [],
   "source": [
    "import crazy_test\n",
    "sys.path.append('/Users/mattiasakesson/Documents/projects/fedn/test/mnist/seed/gamsel')\n",
    "crazy_test.jumpboy()"
   ]
  },
  {
   "cell_type": "code",
   "execution_count": null,
   "metadata": {},
   "outputs": [],
   "source": [
    "import sys\n",
    "sys.path.append('/Users/mattiasakesson/Documents/projects/fedn/test/mnist/seed/gamsel')\n",
    "import gamsel.life as life"
   ]
  },
  {
   "cell_type": "code",
   "execution_count": 1,
   "metadata": {},
   "outputs": [
    {
     "ename": "ModuleNotFoundError",
     "evalue": "No module named 'kerasmodel'",
     "output_type": "error",
     "traceback": [
      "\u001b[0;31m---------------------------------------------------------------------------\u001b[0m",
      "\u001b[0;31mModuleNotFoundError\u001b[0m                       Traceback (most recent call last)",
      "\u001b[0;32m<ipython-input-1-d16cf9a5190c>\u001b[0m in \u001b[0;36m<module>\u001b[0;34m\u001b[0m\n\u001b[0;32m----> 1\u001b[0;31m \u001b[0;32mfrom\u001b[0m \u001b[0mkerasmodel\u001b[0m \u001b[0;32mimport\u001b[0m \u001b[0mcreate_seed_model\u001b[0m\u001b[0;34m\u001b[0m\u001b[0;34m\u001b[0m\u001b[0m\n\u001b[0m",
      "\u001b[0;31mModuleNotFoundError\u001b[0m: No module named 'kerasmodel'"
     ]
    }
   ],
   "source": [
    "from kerasmodel import create_seed_model"
   ]
  },
  {
   "cell_type": "code",
   "execution_count": 23,
   "metadata": {},
   "outputs": [
    {
     "name": "stdout",
     "output_type": "stream",
     "text": [
      "folder:  /Users/mattiasakesson/Documents/projects/fedn/test/fedbird/package/client\n",
      "   filename:  misc.py\n",
      "   filename:  client1.py\n",
      "   filename:  server.py\n",
      "   filename:  yolo3\n",
      "   folder:  yolo3\n",
      "      filename:  .DS_Store\n",
      "      filename:  model.py\n",
      "      filename:  utils.py\n",
      "   filename:  .DS_Store\n",
      "   filename:  requirements.txt\n",
      "   filename:  model_data\n",
      "   folder:  model_data\n",
      "      filename:  yolov3-tiny.h5\n",
      "      filename:  yolov3-tiny.cfg\n",
      "      filename:  seabird_classes.txt\n",
      "      filename:  yolo_anchors.txt\n",
      "      filename:  tiny_yolo_anchors.txt\n",
      "   filename:  convert.py\n",
      "   filename:  kerasmodel.py\n",
      "   filename:  train.py\n",
      "   filename:  inference.py\n",
      "   filename:  yolo.py\n",
      "   filename:  client1_new.py\n",
      "   filename:  client2.py\n"
     ]
    }
   ],
   "source": [
    "import tarfile\n",
    "import sys\n",
    "import os\n",
    "path = '/Users/mattiasakesson/Documents/projects/fedn/test/fedbird/package/client'\n",
    "_, tempf = tempfile.mkstemp()\n",
    "tar = tarfile.open(tempf, \"w:gz\")\n",
    "print(\"folder: \", path)\n",
    "for filename in os.listdir(path):\n",
    "    #if filename.endswith(\".py\"):\n",
    "    print(\"   filename: \", filename)\n",
    "    tar.add(os.path.join(path,filename), filename)\n",
    "    if os.path.isdir(os.path.join(path,filename)):\n",
    "        #tar.add(os.path.join(path,filename), filename)\n",
    "        print(\"   folder: \", filename)\n",
    "\n",
    "        for innerfilename in os.listdir(os.path.join(path,filename)):\n",
    "            #if filename.endswith(\".py\"):\n",
    "            print(\"      filename: \", innerfilename)\n",
    "            tar.add(os.path.join(path,filename,innerfilename), os.path.join(filename,innerfilename))\n",
    "            \n",
    "\n",
    "        \n",
    "\n",
    "tar.close()"
   ]
  },
  {
   "cell_type": "code",
   "execution_count": 24,
   "metadata": {},
   "outputs": [],
   "source": [
    "from io import BytesIO\n",
    "a = BytesIO()\n",
    "a.seek(0, 0)\n",
    "with open(tempf, 'rb') as f:\n",
    "    a.write(f.read())\n",
    "os.unlink(tempf)\n",
    "package = a"
   ]
  },
  {
   "cell_type": "code",
   "execution_count": 26,
   "metadata": {},
   "outputs": [
    {
     "name": "stdout",
     "output_type": "stream",
     "text": [
      "unzip\n",
      "tarinfo:  <TarInfo 'misc.py' at 0x10e354d50>\n",
      "tarinfo:  <TarInfo 'client1.py' at 0x10e175e20>\n",
      "tarinfo:  <TarInfo 'server.py' at 0x10e3df1f0>\n",
      "tarinfo:  <TarInfo 'yolo3' at 0x10e36c600>\n",
      "tarinfo:  <TarInfo 'yolo3/.DS_Store' at 0x10e36c120>\n",
      "tarinfo:  <TarInfo 'yolo3/model.py' at 0x10e36c530>\n",
      "tarinfo:  <TarInfo 'yolo3/utils.py' at 0x10e36c6d0>\n",
      "tarinfo:  <TarInfo 'yolo3/.DS_Store' at 0x10e3f8120>\n",
      "tarinfo:  <TarInfo 'yolo3/model.py' at 0x10e3f82c0>\n",
      "tarinfo:  <TarInfo 'yolo3/utils.py' at 0x10e3f8390>\n",
      "tarinfo:  <TarInfo '.DS_Store' at 0x10e3f8ae0>\n",
      "tarinfo:  <TarInfo 'requirements.txt' at 0x10e3f8530>\n",
      "tarinfo:  <TarInfo 'model_data' at 0x10e3f8050>\n",
      "tarinfo:  <TarInfo 'model_data/seabird_classes.txt' at 0x10e3f81f0>\n",
      "tarinfo:  <TarInfo 'model_data/tiny_yolo_anchors.txt' at 0x10e3f8460>\n",
      "tarinfo:  <TarInfo 'model_data/yolo_anchors.txt' at 0x10e3f8600>\n",
      "tarinfo:  <TarInfo 'model_data/yolov3-tiny.cfg' at 0x10e3f86d0>\n",
      "tarinfo:  <TarInfo 'model_data/yolov3-tiny.h5' at 0x10e3f87a0>\n",
      "tarinfo:  <TarInfo 'model_data/yolov3-tiny.h5' at 0x10e3f8bb0>\n",
      "tarinfo:  <TarInfo 'model_data/yolov3-tiny.cfg' at 0x10e3f8c80>\n",
      "tarinfo:  <TarInfo 'model_data/seabird_classes.txt' at 0x10e3f8e20>\n",
      "tarinfo:  <TarInfo 'model_data/yolo_anchors.txt' at 0x10e3f8a10>\n",
      "tarinfo:  <TarInfo 'model_data/tiny_yolo_anchors.txt' at 0x10e4c1050>\n",
      "tarinfo:  <TarInfo 'convert.py' at 0x10e4c16d0>\n",
      "tarinfo:  <TarInfo 'kerasmodel.py' at 0x10e4c1120>\n",
      "tarinfo:  <TarInfo 'train.py' at 0x10e4c1530>\n",
      "tarinfo:  <TarInfo 'inference.py' at 0x10e3f8870>\n",
      "tarinfo:  <TarInfo 'yolo.py' at 0x10e4c11f0>\n",
      "tarinfo:  <TarInfo 'client1_new.py' at 0x10e4c12c0>\n",
      "tarinfo:  <TarInfo 'client2.py' at 0x10e4c1600>\n",
      "list unziped files\n",
      "folder:  /var/folders/2r/syzzntgn7hj2cscbl18mqxf80000gn/T/tmp_ia1l2v8\n",
      "    filename:  misc.py\n",
      "    filename:  client1.py\n",
      "    filename:  server.py\n",
      "    filename:  yolo3\n",
      "      filename:  .DS_Store\n",
      "      filename:  model.py\n",
      "      filename:  utils.py\n",
      "    filename:  .DS_Store\n",
      "    filename:  requirements.txt\n",
      "    filename:  model_data\n",
      "      filename:  yolov3-tiny.h5\n",
      "      filename:  yolov3-tiny.cfg\n",
      "      filename:  seabird_classes.txt\n",
      "      filename:  yolo_anchors.txt\n",
      "      filename:  tiny_yolo_anchors.txt\n",
      "    filename:  convert.py\n",
      "    filename:  kerasmodel.py\n",
      "    filename:  train.py\n",
      "    filename:  inference.py\n",
      "    filename:  yolo.py\n",
      "    filename:  client1_new.py\n",
      "    filename:  client2.py\n"
     ]
    }
   ],
   "source": [
    "_, path = tempfile.mkstemp()\n",
    "with open(path, 'wb') as fh:\n",
    "    fh.write(package.getbuffer())\n",
    "    fh.flush()\n",
    "# unzip\n",
    "print(\"unzip\")\n",
    "tempf = tempfile.TemporaryDirectory()\n",
    "tar = tarfile.open(path, \"r:gz\")\n",
    "for tarinfo in tar:\n",
    "    print(\"tarinfo: \", tarinfo)\n",
    "    tar.extract(tarinfo, tempf.name)\n",
    "tar.close()\n",
    "print(\"list unziped files\")\n",
    "print(\"folder: \", tempf.name)\n",
    "for filename in os.listdir(tempf.name):\n",
    "    print(\"    filename: \", filename)\n",
    "    if os.path.isdir(os.path.join(tempf.name,filename)):\n",
    "        for innerfilename in os.listdir(os.path.join(tempf.name,filename)):\n",
    "            print(\"      filename: \", innerfilename)\n",
    "    "
   ]
  },
  {
   "cell_type": "code",
   "execution_count": 27,
   "metadata": {},
   "outputs": [
    {
     "name": "stdout",
     "output_type": "stream",
     "text": [
      "root:  /Users/mattiasakesson/Documents/projects/fedn/test/fedbird/package/client , dirs:  ['yolo3', 'model_data'] , files:  ['misc.py', 'client1.py', 'server.py', '.DS_Store', 'requirements.txt', 'convert.py', 'kerasmodel.py', 'train.py', 'inference.py', 'yolo.py', 'client1_new.py', 'client2.py']\n",
      "root:  /Users/mattiasakesson/Documents/projects/fedn/test/fedbird/package/client/yolo3 , dirs:  [] , files:  ['.DS_Store', 'model.py', 'utils.py']\n",
      "root:  /Users/mattiasakesson/Documents/projects/fedn/test/fedbird/package/client/model_data , dirs:  [] , files:  ['yolov3-tiny.h5', 'yolov3-tiny.cfg', 'seabird_classes.txt', 'yolo_anchors.txt', 'tiny_yolo_anchors.txt']\n"
     ]
    }
   ],
   "source": [
    "path = '/Users/mattiasakesson/Documents/projects/fedn/test/fedbird/package/client'\n",
    "for root, dirs, files in os.walk(path):\n",
    "    print(\"root: \", root, \", dirs: \", dirs, \", files: \", files)"
   ]
  },
  {
   "cell_type": "code",
   "execution_count": 30,
   "metadata": {},
   "outputs": [],
   "source": [
    "tar = tarfile.open('newtar.tar.gz', \"w:gz\")\n",
    "        \n",
    "tar.add(path,\"newtar\")\n",
    "tar.close()"
   ]
  },
  {
   "cell_type": "code",
   "execution_count": 34,
   "metadata": {},
   "outputs": [],
   "source": [
    "tar = tarfile.open('newtar.tar.gz', \"r:gz\")\n",
    "tar.extractall()"
   ]
  },
  {
   "cell_type": "code",
   "execution_count": null,
   "metadata": {},
   "outputs": [],
   "source": []
  }
 ],
 "metadata": {
  "kernelspec": {
   "display_name": ".env",
   "language": "python",
   "name": ".env"
  },
  "language_info": {
   "codemirror_mode": {
    "name": "ipython",
    "version": 3
   },
   "file_extension": ".py",
   "mimetype": "text/x-python",
   "name": "python",
   "nbconvert_exporter": "python",
   "pygments_lexer": "ipython3",
   "version": "3.7.6"
  }
 },
 "nbformat": 4,
 "nbformat_minor": 4
}
